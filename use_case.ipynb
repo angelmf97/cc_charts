{
 "cells": [
  {
   "cell_type": "code",
   "execution_count": null,
   "id": "a3bff2ba-4dd7-4c8c-80b2-1b200e781e4b",
   "metadata": {
    "tags": []
   },
   "outputs": [],
   "source": [
    "%load_ext autoreload\n",
    "%autoreload 2\n",
    "import mpld3\n",
    "mpld3.enable_notebook()\n",
    "\n",
    "from package.cc import ChemicalChecker\n",
    "import os\n",
    "\n",
    "os.environ['CC_CONFIG'] = 'config.json'\n",
    "cc_local = ChemicalChecker()"
   ]
  },
  {
   "cell_type": "markdown",
   "id": "15a29844-fe0a-4d2c-a47c-56ce425b56c9",
   "metadata": {},
   "source": [
    "We will start by creating the space objects that will help us connect with the data to create the visualizations:"
   ]
  },
  {
   "cell_type": "code",
   "execution_count": null,
   "id": "7713478d-9a7c-4f7b-b5aa-8ef83009f1d1",
   "metadata": {},
   "outputs": [],
   "source": [
    "# Mechanism of Action (B1)\n",
    "MoA = cc_local.get_signature('char4', 'full', 'B1.001')\n",
    "# Therapeutic Areas (E1)\n",
    "ATC = cc_local.get_signature('char4', 'full', 'E1.001')\n",
    "# Side effects (E3)\n",
    "side_effects = cc_local.get_signature('char4', 'full', 'E3.001')"
   ]
  },
  {
   "cell_type": "markdown",
   "id": "ee38d0fa-da84-4c6b-b55a-848f940d3fe7",
   "metadata": {},
   "source": [
    "This objects allow us to better explore the data. Following the naming use in packages such as sklearn, these objects have a 'fit' method to train the instance, generating all the data needed for the visualizations. Unfortunately, this process is data-intensive and computationally very expensive, as it involves performing a Fisher's exact test for each feature for each of the molecules. In a big space such as B4 this involves doing this computation 2 billion times (631027 molecules by 4635 features), not to mention the amounts of memory needed to store the results. For such reasons, the code is designed ad hoc to be ran in our HPC facilities. Nonetheless, it is possible to generate the visualizations using preprocessed data. To generate molecule visualizations, we just need to run the 'predict' method, giving a query molecule. This query can be input as an InChI key, SMILES or molecule name. Here we will analyse Atenolol, a beta-blocking agent used to treat high blood pressure and heart-associated chest pain."
   ]
  },
  {
   "cell_type": "code",
   "execution_count": null,
   "id": "2de3de02-e628-4417-ae75-db050ab3996c",
   "metadata": {},
   "outputs": [],
   "source": [
    "%matplotlib inline\n",
    "\n",
    "# Mechanism of action\n",
    "_, df = MoA.predict('Atenolol')\n",
    "df"
   ]
  },
  {
   "cell_type": "markdown",
   "id": "f02657c6-b7c2-4621-8f83-3c647479e487",
   "metadata": {},
   "source": [
    "Calling this method generates a dataframe containing all the features enriched within the molecule's neighbourhood and a confidence score that are p-values transformed so they range from 0 to 1. It also produces an interactive figure showing the areas where these features are positively enriched, plus the position of the molecule and its neighbours. The legend is interactive allowing to choose which areas to display. You can also use the controls below the figure to pan, zoom in and out, and return to the original view. As shown, this molecule is contained by a region that is rich in beta-blocking agents, as itself. We can also take a look to the therapeutic areas and side effects that are enriched within its neighbourhood."
   ]
  },
  {
   "cell_type": "code",
   "execution_count": null,
   "id": "c24d100a-ba07-459c-ad35-771a3af4186e",
   "metadata": {},
   "outputs": [],
   "source": [
    "# Therapeutic areas\n",
    "_, df = ATC.predict('Atenolol')\n",
    "df"
   ]
  },
  {
   "cell_type": "code",
   "execution_count": null,
   "id": "4478e084-be61-4e58-af54-24133e762dfd",
   "metadata": {},
   "outputs": [],
   "source": [
    "# Side effects\n",
    "_, df = side_effects.predict('Atenolol')\n",
    "df"
   ]
  },
  {
   "cell_type": "markdown",
   "id": "e545f2cc-2219-42d3-adc6-00c83e53f6e3",
   "metadata": {},
   "source": [
    "The tool also allows to analyse molecules that are not present in the repository. Let's take a look at AMG 337, a highly selective inhibitor of\n",
    "the MET receptor."
   ]
  },
  {
   "cell_type": "code",
   "execution_count": null,
   "id": "d578c821-bd98-4a81-a3ab-ca652f5436da",
   "metadata": {},
   "outputs": [],
   "source": [
    "AMG337 = 'WKIALOXOAZXGMG-UHFFFAOYSA-N'\n",
    "\n",
    "# Mechanism of action\n",
    "_, df = MoA.predict(AMG337)\n",
    "df"
   ]
  },
  {
   "cell_type": "markdown",
   "id": "ace20fb9-fa4b-4653-b7ee-ecdf5c451cd1",
   "metadata": {},
   "source": [
    "The MET receptor is, indeed, a hepatocyte growth factor receptor and a tyrosine kinase. Let's take a look at the therapeutic areas and side effects enriched within the surroundings of this molecule."
   ]
  },
  {
   "cell_type": "code",
   "execution_count": null,
   "id": "931c9fca-928c-4f0d-9b9c-4c81389f2f48",
   "metadata": {},
   "outputs": [],
   "source": [
    "# Therapeutic areas\n",
    "_, df = ATC.predict(AMG337)\n",
    "df"
   ]
  },
  {
   "cell_type": "markdown",
   "id": "64f57e5a-ffcc-485e-a522-d87dae08d635",
   "metadata": {},
   "source": [
    "The analysis correctly catalogs AMG 337 as a protein kinase inhibitor. Protein kinase inhibitors are classified as antineoplastic and immunomodulating agents according to the ATC classification. We can see that the ATC hierarchy is preserved in the plot, as the are enriched in protein kinase inhibitors is enclosed within antineoplastic and immunomodulating agents, which are antineoplastic agents."
   ]
  },
  {
   "cell_type": "code",
   "execution_count": null,
   "id": "6aa1e1e1-b9c2-4090-8347-95387544de30",
   "metadata": {},
   "outputs": [],
   "source": [
    "# Side effects\n",
    "_, df = side_effects.predict(AMG337)\n",
    "df"
   ]
  }
 ],
 "metadata": {
  "kernelspec": {
   "display_name": "Python 3 (ipykernel)",
   "language": "python",
   "name": "python3"
  },
  "language_info": {
   "codemirror_mode": {
    "name": "ipython",
    "version": 3
   },
   "file_extension": ".py",
   "mimetype": "text/x-python",
   "name": "python",
   "nbconvert_exporter": "python",
   "pygments_lexer": "ipython3",
   "version": "3.7.10"
  }
 },
 "nbformat": 4,
 "nbformat_minor": 5
}
